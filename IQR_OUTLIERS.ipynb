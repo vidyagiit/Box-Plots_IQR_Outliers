{
 "cells": [
  {
   "cell_type": "code",
   "execution_count": 3,
   "metadata": {},
   "outputs": [
    {
     "name": "stdout",
     "output_type": "stream",
     "text": [
      "Q1: Lower quartile--  28.75\n",
      "Q1: Upper quartile--  32.0\n",
      "\n",
      "Temperature value that includes outliers :\n",
      "32\n",
      "35\n",
      "28\n",
      "24\n",
      "32\n",
      "31\n"
     ]
    },
    {
     "data": {
      "text/html": [
       "<div>\n",
       "<style scoped>\n",
       "    .dataframe tbody tr th:only-of-type {\n",
       "        vertical-align: middle;\n",
       "    }\n",
       "\n",
       "    .dataframe tbody tr th {\n",
       "        vertical-align: top;\n",
       "    }\n",
       "\n",
       "    .dataframe thead th {\n",
       "        text-align: right;\n",
       "    }\n",
       "</style>\n",
       "<table border=\"1\" class=\"dataframe\">\n",
       "  <thead>\n",
       "    <tr style=\"text-align: right;\">\n",
       "      <th></th>\n",
       "      <th>Temperature Data captured between upper and lower quartile that doesnt contain the outliers</th>\n",
       "    </tr>\n",
       "  </thead>\n",
       "  <tbody>\n",
       "    <tr>\n",
       "      <th>0</th>\n",
       "      <td>32</td>\n",
       "    </tr>\n",
       "    <tr>\n",
       "      <th>1</th>\n",
       "      <td>32</td>\n",
       "    </tr>\n",
       "    <tr>\n",
       "      <th>2</th>\n",
       "      <td>31</td>\n",
       "    </tr>\n",
       "  </tbody>\n",
       "</table>\n",
       "</div>"
      ],
      "text/plain": [
       "   Temperature Data captured between upper and lower quartile that doesnt contain the outliers\n",
       "0                                                 32                                          \n",
       "1                                                 32                                          \n",
       "2                                                 31                                          "
      ]
     },
     "execution_count": 3,
     "metadata": {},
     "output_type": "execute_result"
    }
   ],
   "source": [
    "#For capturing data which doesnt contain the outliers.\n",
    "\n",
    "import pandas as pd\n",
    "df=pd.read_csv('weather_data.csv')\n",
    "a=df.describe()\n",
    "lst=[]\n",
    "print(\"Q1: Lower quartile-- \",a.temperature['25%'])\n",
    "print(\"Q1: Upper quartile-- \",a.temperature['75%'])\n",
    "print()\n",
    "print(\"Temperature value that includes outliers :\")\n",
    "for i in df.temperature:\n",
    "    print(i)\n",
    "    if (i >= a.temperature['25%'] and i <= a.temperature['75%']):\n",
    "        lst.append(i)\n",
    "        #print(lst)\n",
    "df=pd.DataFrame(lst,columns=['Temperature Data captured between upper and lower quartile that doesnt contain the outliers'])\n",
    "df"
   ]
  },
  {
   "cell_type": "code",
   "execution_count": null,
   "metadata": {},
   "outputs": [],
   "source": []
  }
 ],
 "metadata": {
  "kernelspec": {
   "display_name": "Python 3",
   "language": "python",
   "name": "python3"
  },
  "language_info": {
   "codemirror_mode": {
    "name": "ipython",
    "version": 3
   },
   "file_extension": ".py",
   "mimetype": "text/x-python",
   "name": "python",
   "nbconvert_exporter": "python",
   "pygments_lexer": "ipython3",
   "version": "3.8.5"
  }
 },
 "nbformat": 4,
 "nbformat_minor": 4
}
