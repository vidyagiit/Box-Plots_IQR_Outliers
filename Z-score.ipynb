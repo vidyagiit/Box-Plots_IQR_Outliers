{
 "cells": [
  {
   "cell_type": "markdown",
   "metadata": {},
   "source": [
    "  ## calculating zscore and outlier detection using zscore"
   ]
  },
  {
   "cell_type": "code",
   "execution_count": 12,
   "metadata": {},
   "outputs": [
    {
     "name": "stdout",
     "output_type": "stream",
     "text": [
      "[-0.44395919547088286, -0.41180194654457264, -0.13846533067093578, 0.5538613226837432, -0.04388518677002334, -0.3266798170337515, -0.5716423897371147, -0.5167859062745854, -0.4515256069829559, 3.4640923505148185, -0.22358746018175696, -0.41085614510556356, -0.11954930189075329, 0.047857552813861705, -0.40707293934952704]\n",
      "\n",
      "[4332]\n"
     ]
    }
   ],
   "source": [
    "#from scipy.stats import stats\n",
    "from statistics import mean\n",
    "from statistics import stdev\n",
    "data=[200,234,523,1255,623,324,65,123,192,4332,433,235,543,720,239]\n",
    "avg=mean(data)\n",
    "std_dev=stdev(data)\n",
    "std_dev\n",
    "\n",
    "#Outlier detection using zcore\n",
    "\n",
    "outliers=[]\n",
    "zscore=[]\n",
    "for i in data:\n",
    "    z=(i-avg)/std_dev\n",
    "    zscore.append(z)\n",
    "    if z<=-3 or z>=3:\n",
    "        outliers.append(i)\n",
    "print(zscore)\n",
    "print()\n",
    "print(outliers)\n",
    "\n",
    "    \n",
    "\n",
    "    "
   ]
  },
  {
   "cell_type": "code",
   "execution_count": null,
   "metadata": {},
   "outputs": [],
   "source": []
  }
 ],
 "metadata": {
  "kernelspec": {
   "display_name": "Python 3",
   "language": "python",
   "name": "python3"
  },
  "language_info": {
   "codemirror_mode": {
    "name": "ipython",
    "version": 3
   },
   "file_extension": ".py",
   "mimetype": "text/x-python",
   "name": "python",
   "nbconvert_exporter": "python",
   "pygments_lexer": "ipython3",
   "version": "3.8.5"
  }
 },
 "nbformat": 4,
 "nbformat_minor": 4
}
